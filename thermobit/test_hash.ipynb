{
 "cells": [
  {
   "cell_type": "code",
   "execution_count": 15,
   "metadata": {},
   "outputs": [],
   "source": [
    "import datetime"
   ]
  },
  {
   "cell_type": "code",
   "execution_count": 16,
   "metadata": {},
   "outputs": [
    {
     "name": "stdout",
     "output_type": "stream",
     "text": [
      "0xe4\n"
     ]
    }
   ],
   "source": [
    "    # 0xE4\n",
    "    heater = {}\n",
    "    heater['Id'] = 0\n",
    "    heater['IsOn'] = False\n",
    "    heater['CurrentTemp'] = 40\n",
    "    heater['SetTemp'] = 19\n",
    "    heater['Now'] = '7,19:45'\n",
    "    heater['UserNumber'] = 25564181\n",
    "    heater['ProgramNumber'] = 3\n",
    "    heater['Mode'] = 'PRG'\n",
    "    heater['Prg'] = '19:00,10'\n",
    "    print(hex(calc_hash(heater)))"
   ]
  },
  {
   "cell_type": "code",
   "execution_count": 17,
   "metadata": {},
   "outputs": [
    {
     "name": "stdout",
     "output_type": "stream",
     "text": [
      "0x47\n"
     ]
    }
   ],
   "source": [
    "    # 0x47\n",
    "    heater = {}\n",
    "    heater['Id'] = 0\n",
    "    heater['IsOn'] = False\n",
    "    heater['CurrentTemp'] = 49\n",
    "    heater['SetTemp'] = 50\n",
    "    heater['Now'] = '7,19:45'\n",
    "    heater['UserNumber'] = 25564181\n",
    "    heater['ProgramNumber'] = 0\n",
    "    heater['Mode'] = 'MAN'\n",
    "    heater['Prg'] = ''\n",
    "    print(hex(calc_hash(heater)))"
   ]
  },
  {
   "cell_type": "code",
   "execution_count": 18,
   "metadata": {},
   "outputs": [
    {
     "name": "stdout",
     "output_type": "stream",
     "text": [
      "0xd0\n"
     ]
    }
   ],
   "source": [
    "    # 0xD0\n",
    "    heater = {}\n",
    "    heater['Id'] = 0\n",
    "    heater['IsOn'] = False\n",
    "    heater['CurrentTemp'] = 44\n",
    "    heater['SetTemp'] = 10\n",
    "    heater['Now'] = '7,14:01'\n",
    "    heater['UserNumber'] = 25564181\n",
    "    heater['ProgramNumber'] = 2\n",
    "    heater['Mode'] = 'PRG'\n",
    "    heater['Prg'] = '09:00,10'\n",
    "    print(hex(calc_hash(heater)))"
   ]
  },
  {
   "cell_type": "code",
   "execution_count": 19,
   "metadata": {},
   "outputs": [
    {
     "name": "stdout",
     "output_type": "stream",
     "text": [
      "0xd1\n"
     ]
    }
   ],
   "source": [
    "    # 0xD1\n",
    "    heater = {}\n",
    "    heater['Id'] = 0\n",
    "    heater['IsOn'] = False\n",
    "    heater['CurrentTemp'] = 44\n",
    "    heater['SetTemp'] = 10\n",
    "    heater['Now'] = '7,14:02'\n",
    "    heater['UserNumber'] = 25564181\n",
    "    heater['ProgramNumber'] = 2\n",
    "    heater['Mode'] = 'PRG'\n",
    "    heater['Prg'] = '09:00,10'\n",
    "    print(hex(calc_hash(heater)))"
   ]
  },
  {
   "cell_type": "code",
   "execution_count": 20,
   "metadata": {},
   "outputs": [
    {
     "name": "stdout",
     "output_type": "stream",
     "text": [
      "0xd3\n"
     ]
    }
   ],
   "source": [
    "    # 0xD3\n",
    "    heater = {}\n",
    "    heater['Id'] = 0\n",
    "    heater['IsOn'] = False\n",
    "    heater['CurrentTemp'] = 49\n",
    "    heater['SetTemp'] = 10\n",
    "    heater['Now'] = '7,20:00'\n",
    "    heater['UserNumber'] = 25564181\n",
    "    heater['ProgramNumber'] = 3\n",
    "    heater['Mode'] = 'PRG'\n",
    "    heater['Prg'] = '19:00,10'\n",
    "    print(hex(calc_hash(heater)))"
   ]
  },
  {
   "cell_type": "code",
   "execution_count": 21,
   "metadata": {},
   "outputs": [
    {
     "name": "stdout",
     "output_type": "stream",
     "text": [
      "0xd4\n"
     ]
    }
   ],
   "source": [
    "    # 0xD4\n",
    "    heater = {}\n",
    "    heater['Id'] = 0\n",
    "    heater['IsOn'] = False\n",
    "    heater['CurrentTemp'] = 49\n",
    "    heater['SetTemp'] = 10\n",
    "    heater['Now'] = '7,20:01'\n",
    "    heater['UserNumber'] = 25564181\n",
    "    heater['ProgramNumber'] = 3\n",
    "    heater['Mode'] = 'PRG'\n",
    "    heater['Prg'] = '19:00,10'\n",
    "    print(hex(calc_hash(heater)))"
   ]
  },
  {
   "cell_type": "code",
   "execution_count": 13,
   "metadata": {},
   "outputs": [],
   "source": [
    "def calc_hash(heater, hash=181):\n",
    "    # has=40 for xor?\n",
    "    # hash=12 for sum?\n",
    "    for ck, cv in heater.items():\n",
    "        if ck == 'SetTemp':\n",
    "            cv = str(cv)\n",
    "        if isinstance(cv, int):\n",
    "            for x in cv.to_bytes(4,'big'):\n",
    "                hash = hash+x\n",
    "                # hash = hash ^ x\n",
    "        else:\n",
    "            for x in cv:\n",
    "                hash = hash+ord(x)\n",
    "                # hash = hash ^ ord(x)\n",
    "    hash = hash%256\n",
    "    return hash"
   ]
  },
  {
   "cell_type": "code",
   "execution_count": 14,
   "metadata": {},
   "outputs": [
    {
     "name": "stdout",
     "output_type": "stream",
     "text": [
      "181\n"
     ]
    }
   ],
   "source": [
    "for cv in range(256):\n",
    "    if calc_hash(heater,cv) == 0xd4:\n",
    "        print(cv)"
   ]
  },
  {
   "cell_type": "code",
   "execution_count": 77,
   "metadata": {},
   "outputs": [
    {
     "name": "stdout",
     "output_type": "stream",
     "text": [
      "0xe4\n"
     ]
    },
    {
     "data": {
      "text/plain": [
       "228"
      ]
     },
     "execution_count": 77,
     "metadata": {},
     "output_type": "execute_result"
    }
   ],
   "source": [
    "calc_hash(heater)"
   ]
  },
  {
   "cell_type": "code",
   "execution_count": 49,
   "metadata": {},
   "outputs": [
    {
     "data": {
      "text/plain": [
       "'0x23'"
      ]
     },
     "execution_count": 49,
     "metadata": {},
     "output_type": "execute_result"
    }
   ],
   "source": [
    "hex(hash)"
   ]
  },
  {
   "cell_type": "code",
   "execution_count": 107,
   "metadata": {},
   "outputs": [
    {
     "data": {
      "text/plain": [
       "49"
      ]
     },
     "execution_count": 107,
     "metadata": {},
     "output_type": "execute_result"
    }
   ],
   "source": [
    "ord('1')"
   ]
  },
  {
   "cell_type": "code",
   "execution_count": 25,
   "metadata": {},
   "outputs": [
    {
     "name": "stdout",
     "output_type": "stream",
     "text": [
      "0\n",
      "False\n",
      "40\n",
      "19\n",
      "7,19:45\n",
      "25564181\n",
      "3\n",
      "PRG\n",
      "19:00,10\n"
     ]
    }
   ],
   "source": [
    "hash = 0\n",
    "for cv in heater.values():\n",
    "    hash += cv"
   ]
  },
  {
   "cell_type": "code",
   "execution_count": 27,
   "metadata": {},
   "outputs": [],
   "source": [
    "a=1455"
   ]
  },
  {
   "cell_type": "code",
   "execution_count": 34,
   "metadata": {},
   "outputs": [
    {
     "data": {
      "text/plain": [
       "b'\\x00\\x00\\x05\\xaf'"
      ]
     },
     "execution_count": 34,
     "metadata": {},
     "output_type": "execute_result"
    }
   ],
   "source": [
    "a.to_bytes(4,byteorder='big')"
   ]
  },
  {
   "cell_type": "code",
   "execution_count": 181,
   "metadata": {},
   "outputs": [
    {
     "data": {
      "text/plain": [
       "'0x37'"
      ]
     },
     "execution_count": 181,
     "metadata": {},
     "output_type": "execute_result"
    }
   ],
   "source": [
    "hex(55)"
   ]
  },
  {
   "cell_type": "code",
   "execution_count": 184,
   "metadata": {},
   "outputs": [
    {
     "data": {
      "text/plain": [
       "'0X0'"
      ]
     },
     "execution_count": 184,
     "metadata": {},
     "output_type": "execute_result"
    }
   ],
   "source": [
    "str(hex(0)).upper()"
   ]
  },
  {
   "cell_type": "code",
   "execution_count": 189,
   "metadata": {},
   "outputs": [
    {
     "data": {
      "text/plain": [
       "'8C'"
      ]
     },
     "execution_count": 189,
     "metadata": {},
     "output_type": "execute_result"
    }
   ],
   "source": [
    "\"{:02x}\".format(140).upper()"
   ]
  },
  {
   "cell_type": "code",
   "execution_count": null,
   "metadata": {},
   "outputs": [],
   "source": []
  }
 ],
 "metadata": {
  "kernelspec": {
   "display_name": "Python 3",
   "language": "python",
   "name": "python3"
  },
  "language_info": {
   "codemirror_mode": {
    "name": "ipython",
    "version": 3
   },
   "file_extension": ".py",
   "mimetype": "text/x-python",
   "name": "python",
   "nbconvert_exporter": "python",
   "pygments_lexer": "ipython3",
   "version": "3.9.5"
  },
  "vscode": {
   "interpreter": {
    "hash": "173179662e5cbceffa8b7cbbf8bfd388d969b3dbcc0a0b4da6742065c90c4f24"
   }
  }
 },
 "nbformat": 4,
 "nbformat_minor": 2
}
